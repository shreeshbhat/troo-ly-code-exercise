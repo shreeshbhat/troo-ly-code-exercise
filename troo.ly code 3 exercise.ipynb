{
 "cells": [
  {
   "cell_type": "markdown",
   "metadata": {},
   "source": [
    "##Problem statement 1\n",
    "Given a string S, find the number of distinct case-insensitive palindromes that are a substring of S. \n",
    "\n",
    "Example: Given a string \"abAa\", the total number of distinct palindrome substrings is four ('a', 'aba', 'b', 'aa'). \n",
    "\n",
    "Apply your code on the following strings: 'apple', 'anaconda', 'MadamImAdam'."
   ]
  },
  {
   "cell_type": "code",
   "execution_count": 9,
   "metadata": {
    "collapsed": true
   },
   "outputs": [],
   "source": [
    "import itertools"
   ]
  },
  {
   "cell_type": "code",
   "execution_count": 10,
   "metadata": {
    "collapsed": false
   },
   "outputs": [],
   "source": [
    "def is_palindrome(substring):\n",
    "    \"\"\"\n",
    "    Method : To check if a given substring is palindrome or not.\n",
    "    Args : A string is passed in as input.\n",
    "    Returns : A boolean value indicating whether the given input string is palindrome.\n",
    "    \"\"\"\n",
    "    if substring == substring[::-1]:\n",
    "        return True\n",
    "    else:\n",
    "        return False"
   ]
  },
  {
   "cell_type": "code",
   "execution_count": 11,
   "metadata": {
    "collapsed": false
   },
   "outputs": [],
   "source": [
    "def find_all_substrings(string):\n",
    "    \"\"\"\n",
    "    Method : Finds all the substrings of the given input string,\n",
    "             by pivoting across each index and getting substrings of \n",
    "             all lengths with that index as starting point.\n",
    "    Args : A string is passed in as input.\n",
    "    Returns : A list of strings, where each string is a substring of the input.\n",
    "    \"\"\"\n",
    "    substrings = []\n",
    "    length = len(string)\n",
    "    for start_idx in range(length):\n",
    "        for end_idx in range(start_idx,length):\n",
    "            possible_substring = string[start_idx:end_idx+1]\n",
    "            if possible_substring not in substrings:\n",
    "                substrings.append(possible_substring)\n",
    "    return substrings"
   ]
  },
  {
   "cell_type": "code",
   "execution_count": 12,
   "metadata": {
    "collapsed": false
   },
   "outputs": [],
   "source": [
    "def find_all_palindrome_substrings(string):\n",
    "    \"\"\"\n",
    "    Method : Finds all the substrings of the given \n",
    "             input string which are palindrome,\n",
    "             by pivoting across each index and getting substrings \n",
    "             of all lengths with that index as starting point.\n",
    "    Args : A string is passed in as input.\n",
    "    Returns : A list of strings, where each string is a substring palindrome of the input.\n",
    "    \"\"\"\n",
    "    return [ substring for substring in find_all_substrings(string.lower()) if is_palindrome(substring) ]"
   ]
  },
  {
   "cell_type": "code",
   "execution_count": 13,
   "metadata": {
    "collapsed": false
   },
   "outputs": [
    {
     "data": {
      "text/plain": [
       "['a', 'aba', 'b', 'aa']"
      ]
     },
     "execution_count": 13,
     "metadata": {},
     "output_type": "execute_result"
    }
   ],
   "source": [
    "#Sample output\n",
    "find_all_palindrome_substrings(\"abAa\")"
   ]
  },
  {
   "cell_type": "markdown",
   "metadata": {},
   "source": [
    "###Applying code on following strings : 'apple', 'anaconda', 'MadamImAdam'"
   ]
  },
  {
   "cell_type": "code",
   "execution_count": 14,
   "metadata": {
    "collapsed": false
   },
   "outputs": [
    {
     "name": "stdout",
     "output_type": "stream",
     "text": [
      "\n",
      "Palindrome substrings for apple are : \n",
      "['a', 'p', 'pp', 'l', 'e']\n",
      "\n",
      "Palindrome substrings for anaconda are : \n",
      "['a', 'ana', 'n', 'c', 'o', 'd']\n",
      "\n",
      "Palindrome substrings for MadamImAdam are : \n",
      "['m', 'madam', 'madamimadam', 'a', 'ada', 'adamimada', 'd', 'damimad', 'amima', 'mim', 'i']\n"
     ]
    }
   ],
   "source": [
    "test_strings = ['apple','anaconda','MadamImAdam']\n",
    "for string in test_strings:\n",
    "    print(\"\\nPalindrome substrings for %s are : \" %(string))\n",
    "    print find_all_palindrome_substrings(string)"
   ]
  },
  {
   "cell_type": "markdown",
   "metadata": {},
   "source": [
    "##Problem statement 2\n",
    "Given a set C of characters, and string length N as input, \n",
    "\n",
    "Write a program to construct a string S of length N with characters from C such that the number of substring palindromes (i.e., answer to question above) is maximized. \n",
    "\n",
    "Example: If C={a, b, c}, and N=4, we can construct S='abba' to obtain 4 palindromes ('a', 'b', 'abba', 'bb')."
   ]
  },
  {
   "cell_type": "code",
   "execution_count": 15,
   "metadata": {
    "collapsed": false,
    "scrolled": true
   },
   "outputs": [
    {
     "name": "stdout",
     "output_type": "stream",
     "text": [
      "['aaaa', 'abba', 'acca', 'baab', 'bbbb', 'bccb', 'caac', 'cbbc', 'cccc']\n"
     ]
    }
   ],
   "source": [
    "def construct_palindrome_strings(character_set, N):\n",
    "    \"\"\"\n",
    "    Method : Constructs all the possible palindrome strings \n",
    "             having length N from the given input set of characters,\n",
    "             since we are interested in strings having max number of substrings,\n",
    "             by dividing the problem space into half and \n",
    "             constructing palindrome strings out of half of cartesian product.\n",
    "    Args : character_set - A list of strings is passed in as input.\n",
    "           N - Length of strings to be constructed.\n",
    "    Returns : A list of strings, where each string is constructed from set of characters and having length N.\n",
    "    \"\"\"\n",
    "    n_strings = []\n",
    "    if N ==1 :\n",
    "        product = character_set\n",
    "    else:\n",
    "        product = itertools.product(character_set, repeat=(N/2))\n",
    "    for obj in product:\n",
    "        string = ''.join(obj)\n",
    "        while len(string) < N/2:\n",
    "            string.join(string)\n",
    "        \n",
    "        if N == 1:\n",
    "            n_strings.append(string)\n",
    "        elif N % 2 == 0:\n",
    "            palindrome_string = string+string[::-1]\n",
    "            if len(palindrome_string) <= N:\n",
    "                n_strings.append(palindrome_string)\n",
    "        else:\n",
    "            for char in character_set:\n",
    "                palindrome_string = string+ char + string[::-1]\n",
    "                if len(palindrome_string) <= N:\n",
    "                    n_strings.append(palindrome_string)\n",
    "    return n_strings\n",
    "\n",
    "#Sample output\n",
    "print construct_palindrome_strings(['a','b','c'],4)"
   ]
  },
  {
   "cell_type": "code",
   "execution_count": 16,
   "metadata": {
    "collapsed": false
   },
   "outputs": [
    {
     "name": "stdout",
     "output_type": "stream",
     "text": [
      "For string : aaaa , palindrome substrings are ['a', 'aa', 'aaa', 'aaaa']\n",
      "For string : abba , palindrome substrings are ['a', 'abba', 'b', 'bb']\n",
      "For string : acca , palindrome substrings are ['a', 'acca', 'c', 'cc']\n",
      "For string : baab , palindrome substrings are ['b', 'baab', 'a', 'aa']\n",
      "For string : bbbb , palindrome substrings are ['b', 'bb', 'bbb', 'bbbb']\n",
      "For string : bccb , palindrome substrings are ['b', 'bccb', 'c', 'cc']\n",
      "For string : caac , palindrome substrings are ['c', 'caac', 'a', 'aa']\n",
      "For string : cbbc , palindrome substrings are ['c', 'cbbc', 'b', 'bb']\n",
      "For string : cccc , palindrome substrings are ['c', 'cc', 'ccc', 'cccc']\n"
     ]
    }
   ],
   "source": [
    "#Sample output\n",
    "for string in construct_palindrome_strings(['a','b','c'],4):\n",
    "    print('For string : %s , palindrome substrings are %r' %(string,find_all_palindrome_substrings(string)))"
   ]
  },
  {
   "cell_type": "markdown",
   "metadata": {},
   "source": [
    "##Problem statement 3\n",
    "Given the number of distinct characters nc, and length of string N, \n",
    "\n",
    "write a program that computes the maximum number of substring palindromes,\n",
    "\n",
    "that can be formed using at most nc characters in a string of length N \n",
    "\n",
    "(i.e., find the number of palindromes in the answer to the question above)."
   ]
  },
  {
   "cell_type": "code",
   "execution_count": 17,
   "metadata": {
    "collapsed": false
   },
   "outputs": [
    {
     "name": "stdout",
     "output_type": "stream",
     "text": [
      "For distinct character number : 3 and N : 4 \n",
      "Number of palindromes : 9\n"
     ]
    }
   ],
   "source": [
    "def find_number_of_palindromes(distinct_char_no, N):\n",
    "    \"\"\"\n",
    "    Method :  Gets the count of number of strings having \n",
    "              maximum number of palindrome substrings.\n",
    "    Args :    distinct_char_no - A number indicating how many distinct\n",
    "                              characters are there.\n",
    "              N - Length of strings to be constructed.\n",
    "    Returns : A count of number of strings having length N \n",
    "              and maximum number of substring palindromes.\n",
    "    \"\"\"\n",
    "    character_set = [ chr(idx) for idx in range(ord('a'),ord('a')+distinct_char_no)]\n",
    "    max_count = 0\n",
    "    total_count = 0\n",
    "    counts = []\n",
    "    \n",
    "    for string in construct_palindrome_strings(character_set,N):\n",
    "        count_palindrome_substrings = len(find_all_palindrome_substrings(string))\n",
    "        counts.append(count_palindrome_substrings)\n",
    "    \n",
    "    for value in counts:\n",
    "        if max_count < value:\n",
    "            max_count = value\n",
    "    \n",
    "    for value in counts:\n",
    "        if value == max_count:\n",
    "            total_count += 1\n",
    "    \n",
    "    return total_count\n",
    "\n",
    "#Sample output\n",
    "print(\"For distinct character number : %d and N : %d \\nNumber of palindromes : %d\" \n",
    "      %(3,4,find_number_of_palindromes(3,4)))"
   ]
  }
 ],
 "metadata": {
  "kernelspec": {
   "display_name": "Python 2",
   "language": "python",
   "name": "python2"
  },
  "language_info": {
   "codemirror_mode": {
    "name": "ipython",
    "version": 2
   },
   "file_extension": ".py",
   "mimetype": "text/x-python",
   "name": "python",
   "nbconvert_exporter": "python",
   "pygments_lexer": "ipython2",
   "version": "2.7.10"
  }
 },
 "nbformat": 4,
 "nbformat_minor": 0
}
